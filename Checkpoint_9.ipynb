{
  "nbformat": 4,
  "nbformat_minor": 0,
  "metadata": {
    "colab": {
      "provenance": []
    },
    "kernelspec": {
      "name": "python3",
      "display_name": "Python 3"
    },
    "language_info": {
      "name": "python"
    }
  },
  "cells": [
    {
      "cell_type": "code",
      "execution_count": 63,
      "metadata": {
        "colab": {
          "base_uri": "https://localhost:8080/",
          "height": 122
        },
        "id": "NwwNw7IbZPwL",
        "outputId": "bb3d0f0c-c8f8-444c-8946-a519c0a30b2f"
      },
      "outputs": [
        {
          "output_type": "execute_result",
          "data": {
            "text/plain": [
              "'What is Python language?                                                \\nPython is a widely used high-level, general-purpose, interpreted, dynamic programming language.Its design philosophy emphasizes code readability, and its syntax allows programmers to express concepts in fewer lines of code than possible in \\nlanguages such as C++ or Java. \\nPython supports multiple programming paradigms, including object-oriented, imperative and functional programming or procedural styles. It features a dynamic type system and automatic memory management and has a large and comprehensive standard library.The best way we learn anything is by practice and exercise questions. We  have started this section for those (beginner to intermediate) who are familiar with Python.'"
            ],
            "application/vnd.google.colaboratory.intrinsic+json": {
              "type": "string"
            }
          },
          "metadata": {},
          "execution_count": 63
        }
      ],
      "source": [
        "f = open(\"python.txt\", \"r\")\n",
        "f.read()\n"
      ]
    },
    {
      "cell_type": "code",
      "source": [
        "n = int(input(\"\\n\\t\\t\"))\n",
        "f = open(\"python.txt\",\"r\")\n",
        "for i in range(n):\n",
        "\tprint(f.readline())"
      ],
      "metadata": {
        "id": "gtYbBXqHduq6",
        "colab": {
          "base_uri": "https://localhost:8080/"
        },
        "outputId": "55587f91-3e41-4ce8-a29c-597437068494"
      },
      "execution_count": 65,
      "outputs": [
        {
          "output_type": "stream",
          "name": "stdout",
          "text": [
            "\n",
            "\t\t3\n",
            "What is Python language?                                                \n",
            "\n",
            "Python is a widely used high-level, general-purpose, interpreted, dynamic programming language.Its design philosophy emphasizes code readability, and its syntax allows programmers to express concepts in fewer lines of code than possible in \n",
            "\n",
            "languages such as C++ or Java. \n",
            "\n"
          ]
        }
      ]
    },
    {
      "cell_type": "code",
      "source": [
        "for line in (f.readlines() [-3:]):\n",
        "  print(line, end ='')\n",
        " \n"
      ],
      "metadata": {
        "colab": {
          "base_uri": "https://localhost:8080/"
        },
        "id": "zqFc_nUSsW6i",
        "outputId": "5c4c88f3-ed80-4d11-862a-23dbbaaa82ee"
      },
      "execution_count": 83,
      "outputs": [
        {
          "output_type": "stream",
          "name": "stdout",
          "text": [
            "Python supports multiple programming paradigms, including object-oriented, imperative and functional programming or procedural styles. It features a dynamic type system and automatic memory management and has a large and comprehensive standard library.The best way we learn anything is by practice and exercise questions. We  have started this section for those (beginner to intermediate) who are familiar with Python."
          ]
        }
      ]
    },
    {
      "cell_type": "code",
      "source": [
        "with open('python.txt','r') as f:\n",
        "\tlines=f.read()\n",
        "\twords=lines.split()\n",
        "\tprint(len(words))"
      ],
      "metadata": {
        "colab": {
          "base_uri": "https://localhost:8080/"
        },
        "id": "DaKw7x42tUKG",
        "outputId": "2fe2d79d-0c80-4a32-8fd9-ac32ae0d56a5"
      },
      "execution_count": 73,
      "outputs": [
        {
          "output_type": "stream",
          "name": "stdout",
          "text": [
            "100\n"
          ]
        }
      ]
    },
    {
      "cell_type": "code",
      "source": [],
      "metadata": {
        "id": "NzZGuUeYuYqu"
      },
      "execution_count": null,
      "outputs": []
    }
  ]
}